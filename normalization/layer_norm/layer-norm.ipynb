{
 "cells": [
  {
   "cell_type": "markdown",
   "id": "aa6f4a14-15db-4b58-ac8d-aa5149f42024",
   "metadata": {},
   "source": [
    "Layer normalization, [Paper](https://arxiv.org/abs/1607.06450)\n",
    "\n",
    "This is just a copy-and-paste of my implementation of batch norm. The only difference between layer normalization and batch normalization is the dimension which is normalized. In batch norm, its normalized along the batch dimension whilst in layer norm its normalized along the channel dimension\n",
    "here is the batch norm [Paper](https://arxiv.org/pdf/1502.03167) to make comparisons \n",
    "\n",
    "So,\n",
    "\n",
    "```python\n",
    "\n",
    "# in batch norm\n",
    "v = emb @ W1 + b1\n",
    "mean = v.mean(dim=0, keepdim=True)\n",
    "var = v.var(dim=0, keepdim=True)\n",
    "pre_tanh = (v - mean) / (var + 1e-5).sqrt()\n",
    "pre_tanh = bn_gain * pre_tanh + bn_bias\n",
    "h = torch.tanh(pre_tanh) \n",
    "\n",
    "\n",
    "# whilst in layer norm\n",
    "v = emb @ W1 + b1\n",
    "mean = v.mean(dim=1, keepdim=True) # the only diffference is the dimension\n",
    "var = v.var(dim=1, keepdim=True) # here too\n",
    "pre_tanh = (v - mean) / (var + 1e-5).sqrt()\n",
    "pre_tanh = bn_gain * pre_tanh + bn_bias\n",
    "h = torch.tanh(pre_tanh)\n",
    "```\n"
   ]
  },
  {
   "cell_type": "code",
   "execution_count": 1,
   "id": "5df6f204-b25d-4726-a017-bf7b3f09e2de",
   "metadata": {},
   "outputs": [
    {
     "name": "stdout",
     "output_type": "stream",
     "text": [
      "file already exists\n"
     ]
    }
   ],
   "source": [
    "import requests\n",
    "import os\n",
    "\n",
    "def download_file(url, file_path, replace=False):\n",
    "    # Construct the full path to the file\n",
    "    full_path = os.path.join(file_path)\n",
    "\n",
    "    # Check if the file already exists and remove it if necessary\n",
    "    if os.path.exists(full_path):\n",
    "        if not replace:\n",
    "            print(\"file already exists\")\n",
    "            return\n",
    "        os.remove(full_path)\n",
    "        print(f\"File {full_path} already exists. Replacing it.\")\n",
    "\n",
    "    try:\n",
    "        # Download the file\n",
    "        response = requests.get(url, allow_redirects=True)\n",
    "        response.raise_for_status()  # Raise an exception for HTTP errors\n",
    "\n",
    "        # Save the file\n",
    "        with open(full_path, 'wb') as file:\n",
    "            file.write(response.content)\n",
    "        print(f\"File downloaded successfully and saved as {full_path}\")\n",
    "    except requests.exceptions.RequestException as e:\n",
    "        print(f\"An error occurred: {e}\")\n",
    "\n",
    "# Example usage\n",
    "url = 'https://raw.githubusercontent.com/amar-jay/karpathy/main/makemore/assets/names.txt'\n",
    "file_path = os.path.join(os.getcwd(), \"..\", \"..\", \"data\", \"baby_names.txt\")\n",
    "\n",
    "download_file(url, file_path)"
   ]
  },
  {
   "cell_type": "code",
   "execution_count": 2,
   "id": "a1719e46-307e-4ff1-b782-03e68afcc5d9",
   "metadata": {},
   "outputs": [
    {
     "name": "stdout",
     "output_type": "stream",
     "text": [
      "names:  ['chimaobi', 'beau', 'elayna', 'azure', 'chrissy']\n",
      "number of names:  32033\n",
      "(list of chars, count):  ('.abcdefghijklmnopqrstuvwxyz', 27)\n",
      "(max word length, min word length):  (15, 2)\n"
     ]
    }
   ],
   "source": [
    "import torch\n",
    "import torch.nn.functional as F\n",
    "import matplotlib.pyplot as plt\n",
    "import random\n",
    "\n",
    "%matplotlib inline\n",
    "g = torch.Generator().manual_seed(21012003) # for reproducibility\n",
    "\n",
    "torch.__version__\n",
    "\n",
    "with open(file_path, \"r\") as f:\n",
    "    words = f.read().splitlines()\n",
    "    words = [word.strip() for word in words] # get rid of any trailing spaces\n",
    "    words = [w for w in words if w] # get rid of any empty strings\n",
    "    names = sorted(words, key=lambda x: random.random())\n",
    "\n",
    "min_chars = min(len(v) for v in names)\n",
    "max_chars = max(len(v) for v in names)\n",
    "chars = sorted(list(set(\"\".join(names))))\n",
    "\n",
    "# in replacement of the start and end token. Every name should end with a period. and there should be no start token to begin a sequence\n",
    "chars = ['.'] + chars\n",
    "chars_count = len(chars)\n",
    "print(\"names: \", names[:5])\n",
    "print(\"number of names: \", len(names))\n",
    "print(\"(list of chars, count): \", (\"\".join(chars), chars_count))\n",
    "print(\"(max word length, min word length): \", (max_chars, min_chars))\n",
    "\n",
    "atoi = {ch:i for i,ch in enumerate(chars)}\n",
    "itoa = {i:ch for i,ch in enumerate(chars)}\n",
    "\n",
    "# adding end token to each name\n",
    "names = [list(name) + ['.'] for name in names]"
   ]
  },
  {
   "cell_type": "code",
   "execution_count": 3,
   "id": "36f59e82-379e-46bd-953d-d5b8a3d503c6",
   "metadata": {},
   "outputs": [],
   "source": [
    "# hyper-params\n",
    "n_embd = 10  # intermediate weight size\n",
    "block_size  = 3 # context length\n",
    "n_embd2 = 200 # intermediate weight size\n",
    "lr = 0.05 # determined based on graph\n",
    "decay_rate = 0.01 # learning rate decay\n",
    "batch_size = 64"
   ]
  },
  {
   "cell_type": "code",
   "execution_count": 4,
   "id": "a0b42558-4f2b-457c-b03c-f53e1edd8d91",
   "metadata": {},
   "outputs": [
    {
     "name": "stdout",
     "output_type": "stream",
     "text": [
      "... => c\n",
      "..c => h\n",
      ".ch => i\n",
      "chi => m\n",
      "him => a\n"
     ]
    }
   ],
   "source": [
    "# build_dset basically builds a rolling window on the dataset based on the context length.\n",
    "def get_dataset(dset, ctxt_len):\n",
    "    X, Y = [], []\n",
    "    for name in dset:\n",
    "        context  = [0] * ctxt_len\n",
    "        for ch in name:\n",
    "            ix = atoi[ch]\n",
    "            X.append(context)\n",
    "            Y.append(ix)\n",
    "            # print(''.join(itoa[i] for i in context), '--->', itoa[ix])\n",
    "            context = context[1:] + [ix] # crop and append\n",
    "    \n",
    "    X = torch.tensor(X)\n",
    "    Y = torch.tensor(Y)\n",
    "    return X, Y\n",
    "    \n",
    "# train-test split(80, 10, 10)\n",
    "n1 = int(0.8*len(names))\n",
    "n2 = int(0.9*len(names))\n",
    "\n",
    "X_train, Y_train = get_dataset(names[:n1], block_size)\n",
    "X_val, Y_val = get_dataset(names[n1:n2], block_size)\n",
    "X_test, Y_test = get_dataset(names[n2:], block_size)\n",
    "\n",
    "for c, d in zip(X_train[:5], Y_train[:5]):\n",
    "    print(''.join(itoa[i.item()] for i in c), \"=>\", itoa[d.item()])"
   ]
  },
  {
   "cell_type": "code",
   "execution_count": 5,
   "id": "a98e96bc-88dc-4d18-ba05-c274bcc22d01",
   "metadata": {},
   "outputs": [
    {
     "name": "stdout",
     "output_type": "stream",
     "text": [
      "( 0.0 %) loss = 93.54696655273438\n",
      "( 10.0 %) loss = 2.308579206466675\n",
      "( 20.0 %) loss = 2.5328309535980225\n",
      "( 30.0 %) loss = 2.4881129264831543\n",
      "( 40.0 %) loss = 2.322882890701294\n",
      "( 50.0 %) loss = 2.2069520950317383\n",
      "( 60.0 %) loss = 2.536142349243164\n",
      "( 70.0 %) loss = 2.210566997528076\n",
      "( 80.0 %) loss = 2.129309892654419\n",
      "( 90.0 %) loss = 2.1909055709838867\n"
     ]
    }
   ],
   "source": [
    "# TRAINING WITHOUT BATCH NORM\n",
    "# parameters\n",
    "C_ = torch.randn((27, n_embd), generator=g) \n",
    "W1_ = torch.randn((block_size * n_embd, n_embd2), generator=g) # hidden layer\n",
    "b1_ = torch.randn(n_embd2, generator=g)\n",
    "W2_ = torch.randn((n_embd2, 27), generator=g) # output layer\n",
    "b2_ = torch.zeros(27,)\n",
    "\n",
    "params_ = [C_, W1_, b1_, W2_, b2_]\n",
    "\n",
    "for p in params_:\n",
    "    p.requires_grad = True # autograd should record operations\n",
    "    \n",
    "max_steps = 100000\n",
    "losses_ = []\n",
    "\n",
    "for i in range(max_steps):\n",
    "    # minibatch construct - for efficiency\n",
    "    ix = torch.randint(0, X_train.shape[0], (batch_size,))\n",
    "\n",
    "    # forward pass\n",
    "    emb_ = C_[X_train[ix]].view(-1, block_size * n_embd)\n",
    "    v_ = emb_ @ W1_ + b1_\n",
    "\n",
    "    h_ = torch.tanh(v_) # intermediate layer\n",
    "    logits = h_ @ W2_ + b2_\n",
    "        \n",
    "    loss_ = F.cross_entropy(logits, Y_train[ix])\n",
    "    if i % 10000 == 0:\n",
    "        print(\"(\", (i * 100) / max_steps , \"%) loss =\", loss_.item())\n",
    "    \n",
    "    # backward pass\n",
    "    for p in params_:\n",
    "        p.grad = None\n",
    "    loss_.backward()\n",
    "\n",
    "    # update\n",
    "    lri_ = lr if max_steps > 10000 else decay_rate\n",
    "    for p in params_:\n",
    "        p.data += - lri_ * p.grad \n",
    "    losses_.append(loss_.item())"
   ]
  },
  {
   "cell_type": "code",
   "execution_count": 6,
   "id": "927de75a-cdb3-460a-9dbf-c3b83a9ed758",
   "metadata": {},
   "outputs": [
    {
     "name": "stdout",
     "output_type": "stream",
     "text": [
      "( 0.0 %) loss = 22.44281768798828\n",
      "( 10.0 %) loss = 2.3408095836639404\n",
      "( 20.0 %) loss = 2.470330238342285\n",
      "( 30.0 %) loss = 2.320587635040283\n",
      "( 40.0 %) loss = 2.2915070056915283\n",
      "( 50.0 %) loss = 2.187016248703003\n",
      "( 60.0 %) loss = 2.332878351211548\n",
      "( 70.0 %) loss = 2.6760916709899902\n",
      "( 80.0 %) loss = 2.4937825202941895\n",
      "( 90.0 %) loss = 2.4457666873931885\n"
     ]
    }
   ],
   "source": [
    "# TRAINING WITH BATCH NORM\n",
    "# parameters\n",
    "C = torch.randn((27, n_embd), generator=g) \n",
    "W1 = torch.randn((block_size * n_embd, n_embd2), generator=g) # hidden layer\n",
    "b1 = torch.randn(n_embd2, generator=g) \n",
    "W2 = torch.randn((n_embd2, 27), generator=g) # output layer\n",
    "b2 = torch.zeros(27,)\n",
    "\n",
    "#buffers\n",
    "bn_gain = torch.ones((1, n_embd2))\n",
    "bn_bias = torch.zeros((1, n_embd2))\n",
    "\n",
    "params = [C, W1, b1, W2, b2, bn_gain, bn_bias]\n",
    "\n",
    "for p in params:\n",
    "    p.requires_grad = True # autograd should record operations\n",
    "    \n",
    "max_steps = 100000\n",
    "losses = []\n",
    "\n",
    "for i in range(max_steps):\n",
    "    # minibatch construct - for efficiency\n",
    "    ix = torch.randint(0, X_train.shape[0], (batch_size,))\n",
    "\n",
    "    # forward pass\n",
    "    emb = C[X_train[ix]].view(-1, block_size * n_embd)\n",
    "    v = emb @ W1 + b1\n",
    "\n",
    "    # batch norm\n",
    "    mean = v.mean(dim=1, keepdim=True)\n",
    "    var = v.var(dim=1, keepdim=True)\n",
    "    pre_tanh = (v - mean) / (var + 1e-5).sqrt()\n",
    "    pre_tanh = bn_gain * pre_tanh + bn_bias\n",
    "\n",
    "    h = torch.tanh(pre_tanh) # intermediate layer\n",
    "    logits = h @ W2 + b2\n",
    "        \n",
    "    loss = F.cross_entropy(logits, Y_train[ix])\n",
    "    if i % 10000 == 0:\n",
    "        print(\"(\", (i * 100) / max_steps , \"%) loss =\", loss.item())\n",
    "    \n",
    "    # backward pass\n",
    "    for p in params:\n",
    "        p.grad = None\n",
    "    loss.backward()\n",
    "\n",
    "    # update\n",
    "    lri = lr if max_steps > 10000 else decay_rate\n",
    "    for p in params:\n",
    "        p.data += - lri * p.grad \n",
    "    losses.append(loss.item())"
   ]
  },
  {
   "cell_type": "code",
   "execution_count": 7,
   "id": "c9bb89ed-6986-4f27-aeeb-cb56b27f2f33",
   "metadata": {},
   "outputs": [
    {
     "data": {
      "image/png": "[encoded data removed]",
      "text/plain": [
       "<Figure size 1000x500 with 1 Axes>"
      ]
     },
     "metadata": {},
     "output_type": "display_data"
    },
    {
     "data": {
      "image/png": "[encoded data removed]",
      "text/plain": [
       "<Figure size 1000x500 with 1 Axes>"
      ]
     },
     "metadata": {},
     "output_type": "display_data"
    },
    {
     "ename": "NameError",
     "evalue": "name 'v_' is not defined",
     "output_type": "error",
     "traceback": [
      "\u001b[0;31m---------------------------------------------------------------------------\u001b[0m",
      "\u001b[0;31mNameError\u001b[0m                                 Traceback (most recent call last)",
      "Cell \u001b[0;32mIn[7], line 27\u001b[0m\n\u001b[1;32m     24\u001b[0m plt\u001b[38;5;241m.\u001b[39mshow()\n\u001b[1;32m     26\u001b[0m plt\u001b[38;5;241m.\u001b[39mfigure(figsize\u001b[38;5;241m=\u001b[39m(\u001b[38;5;241m10\u001b[39m, \u001b[38;5;241m5\u001b[39m))\n\u001b[0;32m---> 27\u001b[0m plt\u001b[38;5;241m.\u001b[39mhist(\u001b[43mv_\u001b[49m\u001b[38;5;241m.\u001b[39mview(\u001b[38;5;241m-\u001b[39m\u001b[38;5;241m1\u001b[39m), bins\u001b[38;5;241m=\u001b[39m\u001b[38;5;241m50\u001b[39m, alpha\u001b[38;5;241m=\u001b[39m\u001b[38;5;241m0.5\u001b[39m, label\u001b[38;5;241m=\u001b[39m\u001b[38;5;124m'\u001b[39m\u001b[38;5;124mwithout batchnorm\u001b[39m\u001b[38;5;124m'\u001b[39m, color\u001b[38;5;241m=\u001b[39m\u001b[38;5;124m\"\u001b[39m\u001b[38;5;124mlightgray\u001b[39m\u001b[38;5;124m\"\u001b[39m)\n\u001b[1;32m     28\u001b[0m plt\u001b[38;5;241m.\u001b[39mhist(v\u001b[38;5;241m.\u001b[39mview(\u001b[38;5;241m-\u001b[39m\u001b[38;5;241m1\u001b[39m), bins\u001b[38;5;241m=\u001b[39m\u001b[38;5;241m50\u001b[39m, alpha\u001b[38;5;241m=\u001b[39m\u001b[38;5;241m0.5\u001b[39m, label\u001b[38;5;241m=\u001b[39m\u001b[38;5;124m'\u001b[39m\u001b[38;5;124mwith batchnorm\u001b[39m\u001b[38;5;124m'\u001b[39m, color\u001b[38;5;241m=\u001b[39m\u001b[38;5;124m\"\u001b[39m\u001b[38;5;124mblue\u001b[39m\u001b[38;5;124m\"\u001b[39m)\n\u001b[1;32m     30\u001b[0m plt\u001b[38;5;241m.\u001b[39mtitle(\u001b[38;5;124m\"\u001b[39m\u001b[38;5;124mtanh input layer range\u001b[39m\u001b[38;5;124m\"\u001b[39m)\n",
      "\u001b[0;31mNameError\u001b[0m: name 'v_' is not defined"
     ]
    },
    {
     "data": {
      "text/plain": [
       "<Figure size 1000x500 with 0 Axes>"
      ]
     },
     "metadata": {},
     "output_type": "display_data"
    }
   ],
   "source": [
    "with torch.no_grad():\n",
    "    # Plot the graphs\n",
    "    # basically gradient descent is equal in training. However parameter distribution varies. There's exploding and vanishing gradients in unnormalized one\n",
    "    plt.figure(figsize=(10, 5))\n",
    "    plt.plot(losses_, label='without batchnorm', alpha=0.8, color='lightgray')\n",
    "    plt.plot(losses, label='with batchnorm', alpha=0.8,  color='blue',)\n",
    "\n",
    "    plt.title(\"Loss per Iterations\")\n",
    "    plt.xlabel('Epoch')\n",
    "    plt.ylabel('Loss')\n",
    "    plt.legend()\n",
    "    plt.show()\n",
    "\n",
    "    \n",
    "    plt.figure(figsize=(10, 5))\n",
    "    plt.hist(h_.view(-1), bins=50, alpha=0.5, label='without batchnorm', color=\"lightgray\")\n",
    "    plt.hist(h.view(-1), bins=50, alpha=0.5, label='with batchnorm', color=\"blue\")\n",
    "\n",
    "    plt.title(\"tanh output layer range\")\n",
    "    plt.xlabel('Parameters')\n",
    "    plt.ylabel('Frequency')\n",
    "    plt.legend()\n",
    "    plt.tight_layout()\n",
    "    plt.show()\n",
    "\n",
    "    plt.figure(figsize=(10, 5))\n",
    "    plt.hist(v_.view(-1), bins=50, alpha=0.5, label='without batchnorm', color=\"lightgray\")\n",
    "    plt.hist(v.view(-1), bins=50, alpha=0.5, label='with batchnorm', color=\"blue\")\n",
    "\n",
    "    plt.title(\"tanh input layer range\")\n",
    "    plt.xlabel('Parameters')\n",
    "    plt.ylabel('Frequency')\n",
    "    plt.legend()\n",
    "    plt.tight_layout()\n",
    "    plt.show()\n"
   ]
  },
  {
   "cell_type": "code",
   "execution_count": null,
   "id": "45d8b180-dceb-4ced-aa34-c7b97453f23c",
   "metadata": {},
   "outputs": [],
   "source": [
    "@torch.no_grad()\n",
    "def loss(x, y, _params):\n",
    "    emb = _params[0][x].view(-1, 30)\n",
    "    v = emb @ _params[1] + _params[2]\n",
    "    h = torch.tanh(v) # intermediate layer\n",
    "    logits = h @ _params[3] + _params[4]\n",
    "    loss = F.cross_entropy(logits, y)\n",
    "    return loss.item()\n",
    "\n",
    "print(\"With normalization\")\n",
    "params = [C, W1, b1, W2, b2, bn_gain, bn_bias]\n",
    "print(\"training loss: \", loss(X_train, Y_train, params))\n",
    "print(\"val loss: \", loss(X_val, Y_val, params))\n",
    "print(\"test loss: \", loss(X_test, Y_test, params))\n",
    "print(\"-\"*8)\n",
    "params_ = [C_, W1_, b1_, W2_, b2_]\n",
    "print(\"Without normalization\")\n",
    "print(\"training loss: \", loss(X_train, Y_train, params_))\n",
    "print(\"val loss: \", loss(X_val, Y_val, params_))\n",
    "print(\"test loss: \", loss(X_test, Y_test, params_))"
   ]
  },
  {
   "cell_type": "code",
   "execution_count": null,
   "id": "823a7148-a167-4b82-93e2-e9ea4d2e2dbf",
   "metadata": {},
   "outputs": [],
   "source": [
    "# inference its totally unneccessary but I thought it might be cool to add\n",
    "import time\n",
    "\n",
    "def inference():\n",
    "    C, W1, b1, W2, b2 = params[:5] \n",
    "    emb = C[torch.tensor(context)].view(-1, block_size * n_embd)\n",
    "    h = torch.tanh(emb @ W1 + b1)\n",
    "    logits = h @ W2 + b2\n",
    "    probs = F.softmax(logits, dim=1)\n",
    "    # print(probs)\n",
    "    ix = torch.multinomial(probs, num_samples=1, generator=g)\n",
    "    \n",
    "with torch.no_grad():\n",
    "    generated_names = []\n",
    "    print(\"generating...\")\n",
    "    start_time = time.time()\n",
    "    while True:\n",
    "        out = []\n",
    "        probs = None\n",
    "        context  = [0] * block_size\n",
    "        while True:\n",
    "            ix = inference(params) \n",
    "            context = context[1:] + [ix]\n",
    "            out.append(ix)\n",
    "            \n",
    "            if ix == 0:\n",
    "                break\n",
    "\n",
    "        word = ''.join(itoa[i.item()] for i in out)\n",
    "        if nnl(word) < 1.5 and len(word) > 3 and word not in generated_names:\n",
    "            print(\"+ valid word: \", word)\n",
    "            generated_names.append(word) \n",
    "        if len(generated_names) == 10:\n",
    "            break\n",
    "    duration = time.time() - start_time\n",
    "    print(\"duration: \", duration)"
   ]
  },
  {
   "cell_type": "markdown",
   "id": "c3d8ccbd-3235-41d0-b710-c228c81f4f42",
   "metadata": {},
   "source": [
    "The effect is more noticable when there are more layers and the netowrks goes nire deeoer, That;s when the iissue arrises but now there's nothing much "
   ]
  }
 ],
 "metadata": {
  "kernelspec": {
   "display_name": "Python 3 (ipykernel)",
   "language": "python",
   "name": "python3"
  },
  "language_info": {
   "codemirror_mode": {
    "name": "ipython",
    "version": 3
   },
   "file_extension": ".py",
   "mimetype": "text/x-python",
   "name": "python",
   "nbconvert_exporter": "python",
   "pygments_lexer": "ipython3",
   "version": "3.10.12"
  },
  "widgets": {
   "application/vnd.jupyter.widget-state+json": {
    "state": {},
    "version_major": 2,
    "version_minor": 0
   }
  }
 },
 "nbformat": 4,
 "nbformat_minor": 5
}
