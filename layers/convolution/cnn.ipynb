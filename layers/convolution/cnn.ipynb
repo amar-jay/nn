{
 "cells": [
  {
   "cell_type": "markdown",
   "id": "5495556f-440f-4ce6-a5ef-0e8cadf05b0f",
   "metadata": {},
   "source": [
    "trying to understand basic cnn works as well as tensorboard\n",
    "from \n",
    "- Conv2d layer\n",
    "- MaxPooling\n",
    "- * tensorboard"
   ]
  },
  {
   "cell_type": "code",
   "execution_count": 29,
   "id": "4ca69c9a-9b20-48ee-8c08-865613650763",
   "metadata": {},
   "outputs": [],
   "source": [
    "# imports\n",
    "import matplotlib.pyplot as plt\n",
    "import numpy as np\n",
    "\n",
    "import torch\n",
    "import torchvision\n",
    "import torchvision.transforms as transforms\n",
    "\n",
    "import torch.nn as nn\n",
    "import torch.nn.functional as F\n",
    "import torch.optim as optim\n",
    "\n",
    "# transforms\n",
    "transform = transforms.Compose(\n",
    "    [transforms.ToTensor(),\n",
    "    transforms.Normalize((0.5,), (0.5,))])\n",
    "\n",
    "# datasets\n",
    "trainset = torchvision.datasets.FashionMNIST('../../.tensor_board/data',\n",
    "  # download=True,\n",
    "    train=True,\n",
    "    transform=transform)\n",
    "testset = torchvision.datasets.FashionMNIST('../../.tensor_board/data',\n",
    "   # download=True,\n",
    "    train=False,\n",
    "    transform=transform)\n",
    "\n",
    "# dataloaders\n",
    "trainloader = torch.utils.data.DataLoader(trainset, batch_size=4,\n",
    "                                        shuffle=True, num_workers=2)\n",
    "\n",
    "\n",
    "testloader = torch.utils.data.DataLoader(testset, batch_size=4,\n",
    "                                        shuffle=False, num_workers=2)\n",
    "\n",
    "# constant for classes\n",
    "classes = ('T-shirt/top', 'Trouser', 'Pullover', 'Dress', 'Coat',\n",
    "        'Sandal', 'Shirt', 'Sneaker', 'Bag', 'Ankle Boot')\n",
    "\n",
    "# helper function to show an image\n",
    "# (used in the `plot_classes_preds` function below)\n",
    "def matplotlib_imshow(img, one_channel=False):\n",
    "    if one_channel:\n",
    "        img = img.mean(dim=0)\n",
    "    img = img / 2 + 0.5     # unnormalize\n",
    "    npimg = img.numpy()\n",
    "    if one_channel:\n",
    "        plt.imshow(npimg, cmap=\"Greys\")\n",
    "    else:\n",
    "        plt.imshow(np.transpose(npimg, (1, 2, 0)))"
   ]
  },
  {
   "cell_type": "code",
   "execution_count": 2,
   "id": "beeee1ac-b004-4ca4-8892-4e600b8e89a6",
   "metadata": {},
   "outputs": [],
   "source": [
    "class Net(nn.Module):\n",
    "    def __init__(self):\n",
    "        super(Net, self).__init__()\n",
    "        self.conv1 = nn.Conv2d(1, 6, 5)\n",
    "        self.pool = nn.MaxPool2d(2, 2)\n",
    "        self.conv2 = nn.Conv2d(6, 16, 5)\n",
    "        self.fc1 = nn.Linear(16 * 4 * 4, 120)\n",
    "        self.fc2 = nn.Linear(120, 84)\n",
    "        self.fc3 = nn.Linear(84, 10)\n",
    "\n",
    "    def forward(self, x):\n",
    "        x = self.pool(F.relu(self.conv1(x)))\n",
    "        x = self.pool(F.relu(self.conv2(x)))\n",
    "        x = x.view(-1, 16 * 4 * 4)\n",
    "        x = F.relu(self.fc1(x))\n",
    "        x = F.relu(self.fc2(x))\n",
    "        x = self.fc3(x)\n",
    "        return x\n",
    "\n",
    "\n",
    "net = Net()"
   ]
  },
  {
   "cell_type": "markdown",
   "id": "18ebd255-78e2-4066-8f3b-db5bc2dd3a7a",
   "metadata": {},
   "source": [
    "Reimplemeting the CNN Model by implementing Conv2d from scratch\n"
   ]
  },
  {
   "cell_type": "code",
   "execution_count": 204,
   "id": "9ee5f682-8fa9-4652-a44c-2f5a0101cdb6",
   "metadata": {},
   "outputs": [
    {
     "name": "stdout",
     "output_type": "stream",
     "text": [
      "torch.Size([4, 6, 8, 8])\n"
     ]
    }
   ],
   "source": [
    "class Conv2d(nn.Module):\n",
    "    # a poorman's conv2d layer(only forward pass tested). written just to understand how it works under the hood.\n",
    "    def __init__(self, C_in, C_out, kernel_size):\n",
    "        \"\"\"\n",
    "        B -> Batch size,\n",
    "        C_out -> Number of output channels\n",
    "\n",
    "        https://pytorch.org/docs/stable/generated/torch.nn.Conv2d.html\n",
    "        \"\"\"\n",
    "        super(Conv2d, self).__init__()\n",
    "        self.k = kernel_size\n",
    "        self.C_out = C_out\n",
    "        self.C_in = C_in\n",
    "        self.weight = torch.nn.Parameter(torch.randn(C_out, C_in, kernel_size, kernel_size))\n",
    "        self.bias = torch.nn.Parameter(torch.randn(C_out))\n",
    "    def cross_correlation(self, inputs, weight, dim):\n",
    "        # this can be replaced by np.correlate / scipy.ndimage.correlate, they are more efficient.\n",
    "        # it uses fast fourier transform in its computation with is magnitude faster for larger arrays.\n",
    "        \n",
    "        res = torch.zeros(dim)\n",
    "        \n",
    "        for i in range(dim[0]): # height\n",
    "            for j in range(dim[1]): # width \n",
    "                res[i,j] =  torch.sum(weight * inputs[i:i+self.k, j:j+self.k])\n",
    "        return res # (H_out, W_out)\n",
    "        \n",
    "    def forward(self, input):\n",
    "        # input -> (B, C_in, H_in, W_in)\n",
    "        B = input.size(0)\n",
    "        # Calculate the output dimensions\n",
    "        H_out = input.size(-2) - self.k + 1\n",
    "        W_out = input.size(-1) - self.k + 1\n",
    "        \n",
    "        ans = torch.zeros(B, self.C_out, H_out, W_out) # (B, C_out, H, W)\n",
    "        for N_i in range(B):\n",
    "            for C_out_j in range(self.C_out):\n",
    "                cross_corr_sum = torch.zeros(H_out, W_out)\n",
    "                for k in range(self.C_in):\n",
    "                    c = self.cross_correlation(input[N_i, k], self.weight[C_out_j, k], dim=(H_out, W_out))\n",
    "                    cross_corr_sum += c\n",
    "                ans[N_i, C_out_j] = self.bias[C_out_j] + cross_corr_sum \n",
    "        return ans\n",
    "\n",
    "net = Conv2d(1, 6, 3)\n",
    "dd = net(torch.randn(4, 1, 10, 10))\n",
    "print(dd.shape)"
   ]
  },
  {
   "cell_type": "code",
   "execution_count": 353,
   "id": "d9fc0a4e-c7a8-4a96-ab27-84620ed2de15",
   "metadata": {},
   "outputs": [
    {
     "data": {
      "text/plain": [
       "True"
      ]
     },
     "execution_count": 353,
     "metadata": {},
     "output_type": "execute_result"
    }
   ],
   "source": [
    "class MaxPool2d(nn.Module):\n",
    "    # a poorman's MaxPool2d layer(only forward pass tested). written just to understand how it works under the hood.\n",
    "    def __init__(self, kernel_size, stride):\n",
    "        \"\"\"\n",
    "        https://pytorch.org/docs/stable/generated/torch.nn.MaxPool2d.html#maxpool2d\n",
    "        \"\"\"\n",
    "        super(MaxPool2d, self).__init__()\n",
    "        self.kernel_size = kernel_size\n",
    "        self.stride = stride\n",
    "    def forward(self, inputs):\n",
    "        B, C, H_in, W_in = inputs.shape\n",
    "        # assuming stride is 1 on both B, C\n",
    "        H_out = (H_in // self.kernel_size) \n",
    "        W_out = (W_in // self.kernel_size) \n",
    "        out = torch.zeros(B, C, H_out, W_out)\n",
    "        for b in range(B):\n",
    "            for c in range(C):\n",
    "                for h in range(H_out):\n",
    "                    for w in range(W_out):\n",
    "                        posh = h*self.stride\n",
    "                        posw = w*self.stride\n",
    "                        block = inputs[b, c, posh:posh+self.kernel_size, posw:posw+self.kernel_size]\n",
    "                        # ans = block.reshape((-1,)).max(0)\n",
    "                        # ans = block.max(dim=1, keepdim=True).values.max(dim=0, keepdim=True).values\n",
    "                        out[b, c, h, w] = torch.max(block)\n",
    "        return out\n",
    "\n",
    "net = MaxPool2d(2, 2)\n",
    "inp = torch.randn(2, 1, 16, 16, requires_grad=True)\n",
    "orig = nn.MaxPool2d(2, 2)\n",
    "# orig(inp) == net(inp)\n",
    "torch.allclose(orig(inp), net(inp))\n",
    "                "
   ]
  },
  {
   "cell_type": "code",
   "execution_count": 352,
   "id": "b2a9f79b-5068-4df9-93b0-58461b0ef7eb",
   "metadata": {},
   "outputs": [
    {
     "name": "stdout",
     "output_type": "stream",
     "text": [
      "corr/conv:  [-0.5 -0.5  0.   0.5  1.   4.5  2.5] [-0.5 -0.5  0.   0.5  1.   4.5  2.5] True\n",
      "5\n",
      "input shape:  torch.Size([4, 1, 28, 28])\n",
      "labels shape:  torch.Size([4])\n",
      "original conv parameters:  [torch.Size([6, 1, 5, 5]), torch.Size([6])]\n",
      "my conv parameters:  [torch.Size([6, 1, 5, 5]), torch.Size([6])]\n",
      "conv2d output shape:  torch.Size([4, 6, 24, 24]) torch.Size([4, 6, 24, 24])\n",
      "testing both:  False True\n",
      "output from max pool shape:  torch.Size([4, 1, 14, 14])\n",
      "my output from max pool shape:  torch.Size([4, 1, 14, 14])\n",
      "testing both:  True True\n"
     ]
    }
   ],
   "source": [
    "x = np.linspace(1, 5,5)\n",
    "y = (np.random.randn(3) // 0.5) * 0.5\n",
    "# cross-correlation, is just convolution without the flip of the kernel\n",
    "corr, conv = np.correlate(x, y, mode=\"full\"), np.convolve(x, np.flip(y))\n",
    "print(\"corr/conv: \", corr, conv, np.all(corr == conv))\n",
    "\n",
    "# it seems that output_size = input_size - kernel_size + 1\n",
    "\n",
    "\n",
    "for i, data in enumerate(trainloader, 5): \n",
    "    inputs, labels = data\n",
    "    print(i)\n",
    "    print(\"input shape: \", inputs.shape)\n",
    "    print(\"labels shape: \", labels.shape)\n",
    "    conv = nn.Conv2d(1, 6, 5)\n",
    "    print(\"original conv parameters: \", [i.shape for i in conv.parameters()])\n",
    "    mine = Conv2d(1, 6, 5)\n",
    "    mine.weight = conv.weight\n",
    "    mine.bias = conv.bias\n",
    "    print(\"my conv parameters: \", [i.shape for i in mine.parameters()])\n",
    "    conv_out = conv(inputs)\n",
    "    mine_out = mine(inputs)\n",
    "    print(\"conv2d output shape: \", conv_out.shape, mine_out.shape)\n",
    "    print(\"testing both: \", torch.allclose(conv_out, mine_out), torch.all(conv_out - mine_out < 1e-5).item()) # 💢\n",
    "    # though all are not equal they are close at aproximate error of ~E=10^-5\n",
    "\n",
    "    pool = nn.MaxPool2d(2,2)\n",
    "    pool_out = pool(inputs)\n",
    "    print(\"output from max pool shape: \", pool_out.shape)\n",
    "    mine = MaxPool2d(2,2)\n",
    "    mine_out = mine(inputs)\n",
    "    print(\"my output from max pool shape: \", mine_out.shape)\n",
    "    print(\"testing both: \", torch.allclose(pool_out, mine_out), torch.all(pool_out - mine_out < 1e-5).item()) # 💢\n",
    "    break"
   ]
  },
  {
   "cell_type": "code",
   "execution_count": 297,
   "id": "798faef2-7316-4ffb-9681-d1c9347d31ce",
   "metadata": {},
   "outputs": [
    {
     "name": "stdout",
     "output_type": "stream",
     "text": [
      "tensor([[ 1.0138,  0.5590, -0.5872,  0.1536,  0.8506, -0.2311, -0.5321, -0.2137,\n",
      "         -0.1066,  1.6171],\n",
      "        [-0.3043, -0.4339,  1.6755,  1.1117,  0.7554,  1.3151, -0.6031, -0.6163,\n",
      "          0.1046,  0.7804],\n",
      "        [-0.9335,  0.2672,  0.5056, -0.5916, -0.6055,  2.3247, -1.2898, -2.7218,\n",
      "          0.6508, -1.1789]])\n"
     ]
    }
   ],
   "source": [
    "s = torch.randn(3, 10)\n",
    "print(s)\n",
    "s[0,0] = s.max(dim=1, keepdim=True).values.max(dim=0, keepdim=True).values\n",
    "# s.max(dim=0)"
   ]
  },
  {
   "cell_type": "code",
   "execution_count": 3,
   "id": "78f104fe-4557-4b34-aaa1-4ff4b83c5822",
   "metadata": {},
   "outputs": [],
   "source": [
    "criterion = nn.CrossEntropyLoss()\n",
    "optimizer = optim.SGD(net.parameters(), lr=0.001, momentum=0.9)"
   ]
  },
  {
   "cell_type": "markdown",
   "id": "2defd56f-f62c-4ed6-b775-9a0e93ceb983",
   "metadata": {},
   "source": [
    "## Set up Tensorboard"
   ]
  },
  {
   "cell_type": "code",
   "execution_count": 4,
   "id": "36b2a5e1-af37-4a3b-bafb-d6186950932f",
   "metadata": {},
   "outputs": [],
   "source": [
    "from torch.utils.tensorboard import SummaryWriter\n",
    "\n",
    "# default `log_dir` is \"runs\" - we'll be more specific here\n",
    "writer = SummaryWriter('../../.tensor_board/tmp/runs/fashion_mnist_experiment_cnn')"
   ]
  },
  {
   "cell_type": "code",
   "execution_count": 5,
   "id": "e95ae18a-212b-4a8e-9fee-d17b9ebaf9d6",
   "metadata": {},
   "outputs": [
    {
     "data": {
      "image/png": "[encoded data removed]",
      "text/plain": [
       "<Figure size 640x480 with 1 Axes>"
      ]
     },
     "metadata": {},
     "output_type": "display_data"
    }
   ],
   "source": [
    "# get some random training images\n",
    "dataiter = iter(trainloader)\n",
    "images, labels = next(dataiter)\n",
    "\n",
    "# create grid of images\n",
    "img_grid = torchvision.utils.make_grid(images)\n",
    "\n",
    "# show images\n",
    "matplotlib_imshow(img_grid, one_channel=True)\n",
    "\n",
    "# write to tensorboard\n",
    "writer.add_image('four_fashion_mnist_images', img_grid)"
   ]
  },
  {
   "cell_type": "code",
   "execution_count": 6,
   "id": "94b4d755-2ea8-4996-acdc-7451c62ed8f5",
   "metadata": {},
   "outputs": [],
   "source": [
    "# Add model graph to tensorboard\n",
    "writer.add_graph(net, images)"
   ]
  },
  {
   "cell_type": "code",
   "execution_count": 7,
   "id": "9f85f1a5-1b27-4b69-9376-515b0e510c4c",
   "metadata": {},
   "outputs": [
    {
     "name": "stdout",
     "output_type": "stream",
     "text": [
      "warning: Embedding dir exists, did you set global_step for add_embedding()?\n"
     ]
    }
   ],
   "source": [
    "# helper function\n",
    "def select_n_random(data, labels, n=100):\n",
    "    '''\n",
    "    Selects n random datapoints and their corresponding labels from a dataset\n",
    "    '''\n",
    "    assert len(data) == len(labels)\n",
    "\n",
    "    perm = torch.randperm(len(data))\n",
    "    return data[perm][:n], labels[perm][:n]\n",
    "\n",
    "# select random images and their target indices\n",
    "images, labels = select_n_random(trainset.data, trainset.targets)\n",
    "\n",
    "# get the class labels for each image\n",
    "class_labels = [classes[lab] for lab in labels]\n",
    "\n",
    "# log embeddings\n",
    "features = images.view(-1, 28 * 28)\n",
    "writer.add_embedding(features,\n",
    "                    metadata=class_labels,\n",
    "                    label_img=images.unsqueeze(1))\n",
    "#writer.close()"
   ]
  },
  {
   "cell_type": "code",
   "execution_count": 8,
   "id": "6f380bbf-2d86-4ec5-8810-5cf56ecbd17a",
   "metadata": {},
   "outputs": [],
   "source": [
    "# helper functions\n",
    "\n",
    "def images_to_probs(net, images):\n",
    "    '''\n",
    "    Generates predictions and corresponding probabilities from a trained\n",
    "    network and a list of images\n",
    "    '''\n",
    "    output = net(images)\n",
    "    # convert output probabilities to predicted class\n",
    "    _, preds_tensor = torch.max(output, 1)\n",
    "    preds = np.squeeze(preds_tensor.numpy())\n",
    "    return preds, [F.softmax(el, dim=0)[i].item() for i, el in zip(preds, output)]\n",
    "\n",
    "\n",
    "def plot_classes_preds(net, images, labels):\n",
    "    '''\n",
    "    Generates matplotlib Figure using a trained network, along with images\n",
    "    and labels from a batch, that shows the network's top prediction along\n",
    "    with its probability, alongside the actual label, coloring this\n",
    "    information based on whether the prediction was correct or not.\n",
    "    Uses the \"images_to_probs\" function.\n",
    "    '''\n",
    "    preds, probs = images_to_probs(net, images)\n",
    "    # plot the images in the batch, along with predicted and true labels\n",
    "    fig = plt.figure(figsize=(12, 48))\n",
    "    for idx in np.arange(4):\n",
    "        ax = fig.add_subplot(1, 4, idx+1, xticks=[], yticks=[])\n",
    "        matplotlib_imshow(images[idx], one_channel=True)\n",
    "        ax.set_title(\"{0}, {1:.1f}%\\n(label: {2})\".format(\n",
    "            classes[preds[idx]],\n",
    "            probs[idx] * 100.0,\n",
    "            classes[labels[idx]]),\n",
    "                    color=(\"green\" if preds[idx]==labels[idx].item() else \"red\"))\n",
    "    return fig"
   ]
  },
  {
   "cell_type": "code",
   "execution_count": 10,
   "id": "54ee7f19-32dc-4ae8-95e7-e605c7fe4d20",
   "metadata": {},
   "outputs": [
    {
     "name": "stdout",
     "output_type": "stream",
     "text": [
      "Finished Training\n"
     ]
    }
   ],
   "source": [
    "running_loss = 0.0\n",
    "for epoch in range(1):  # loop over the dataset multiple times\n",
    "\n",
    "    for i, data in enumerate(trainloader, 0):\n",
    "\n",
    "        # get the inputs; data is a list of [inputs, labels]\n",
    "        inputs, labels = data\n",
    "\n",
    "        # zero the parameter gradients\n",
    "        optimizer.zero_grad()\n",
    "\n",
    "        # forward + backward + optimize\n",
    "        outputs = net(inputs)\n",
    "        loss = criterion(outputs, labels)\n",
    "        loss.backward()\n",
    "        optimizer.step()\n",
    "\n",
    "        running_loss += loss.item()\n",
    "        if i % 1000 == 999:    # every 1000 mini-batches...\n",
    "\n",
    "            # ...log the running loss\n",
    "            writer.add_scalar('training loss',\n",
    "                            running_loss / 1000,\n",
    "                            epoch * len(trainloader) + i)\n",
    "\n",
    "            # ...log a Matplotlib Figure showing the model's predictions on a\n",
    "            # random mini-batch\n",
    "            writer.add_figure('predictions vs. actuals',\n",
    "                            plot_classes_preds(net, inputs, labels),\n",
    "                            global_step=epoch * len(trainloader) + i)\n",
    "            running_loss = 0.0\n",
    "print('Finished Training')"
   ]
  },
  {
   "cell_type": "code",
   "execution_count": 11,
   "id": "5764704d-67ed-46ce-b35e-0853baa393e1",
   "metadata": {},
   "outputs": [],
   "source": [
    "# 1. gets the probability predictions in a test_size x num_classes Tensor\n",
    "# 2. gets the preds in a test_size Tensor\n",
    "# takes ~10 seconds to run\n",
    "class_probs = []\n",
    "class_label = []\n",
    "with torch.no_grad():\n",
    "    for data in testloader:\n",
    "        images, labels = data\n",
    "        output = net(images)\n",
    "        class_probs_batch = [F.softmax(el, dim=0) for el in output]\n",
    "\n",
    "        class_probs.append(class_probs_batch)\n",
    "        class_label.append(labels)\n",
    "\n",
    "test_probs = torch.cat([torch.stack(batch) for batch in class_probs])\n",
    "test_label = torch.cat(class_label)\n",
    "\n",
    "# helper function\n",
    "def add_pr_curve_tensorboard(class_index, test_probs, test_label, global_step=0):\n",
    "    '''\n",
    "    Takes in a \"class_index\" from 0 to 9 and plots the corresponding\n",
    "    precision-recall curve\n",
    "    '''\n",
    "    tensorboard_truth = test_label == class_index\n",
    "    tensorboard_probs = test_probs[:, class_index]\n",
    "\n",
    "    writer.add_pr_curve(classes[class_index],\n",
    "                        tensorboard_truth,\n",
    "                        tensorboard_probs,\n",
    "                        global_step=global_step)\n",
    "    writer.close()\n",
    "\n",
    "# plot all the pr curves\n",
    "for i in range(len(classes)):\n",
    "    add_pr_curve_tensorboard(i, test_probs, test_label)"
   ]
  },
  {
   "cell_type": "code",
   "execution_count": 17,
   "id": "9eab3266-134e-48ee-ae21-289359be03a9",
   "metadata": {},
   "outputs": [
    {
     "name": "stdout",
     "output_type": "stream",
     "text": [
      "total number of parameters: 44426\n",
      "size in float32:  177.704 KB\n"
     ]
    }
   ],
   "source": [
    "total_params= sum(p.numel() for p in net.parameters())\n",
    "print(\"total number of parameters:\", total_params)\n",
    "print(\"size in float32: \",(total_params * 4)/1e3, \"KB\")"
   ]
  }
 ],
 "metadata": {
  "kernelspec": {
   "display_name": "Python 3 (ipykernel)",
   "language": "python",
   "name": "python3"
  },
  "language_info": {
   "codemirror_mode": {
    "name": "ipython",
    "version": 3
   },
   "file_extension": ".py",
   "mimetype": "text/x-python",
   "name": "python",
   "nbconvert_exporter": "python",
   "pygments_lexer": "ipython3",
   "version": "3.10.12"
  },
  "widgets": {
   "application/vnd.jupyter.widget-state+json": {
    "state": {},
    "version_major": 2,
    "version_minor": 0
   }
  }
 },
 "nbformat": 4,
 "nbformat_minor": 5
}
