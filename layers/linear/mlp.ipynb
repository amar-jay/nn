{
 "cells": [
  {
   "cell_type": "markdown",
   "metadata": {},
   "source": [
    "### [MLP - Bengio et al. '03](./assets/bengio03.pdf)\n",
    "\n",
    "Multi-layer perceptrion (MLP) is a feedforward neural network with one or more hidden layers between input and output layers. It is a generalization of the standard linear perceptron. MLPs are widely used for supervised learning. \n",
    "\n",
    "- Activation functions introduces non-linearity to enable complex representations \n",
    "- Tanh layers are especially useful for classification problems that are not linearly separable.\n",
    "- Also one takeaway is the larger the number of channels fed into the activation function, the better it performs."
   ]
  },
  {
   "cell_type": "code",
   "execution_count": 1,
   "id": "bb6151f8-7b27-47bd-81df-056c78d5ea46",
   "metadata": {},
   "outputs": [
    {
     "data": {
      "text/plain": [
       "'2.1.1+cu121'"
      ]
     },
     "execution_count": 1,
     "metadata": {},
     "output_type": "execute_result"
    }
   ],
   "source": [
    "import torch\n",
    "import torch.nn.functional as F\n",
    "import matplotlib.pyplot as plt\n",
    "\n",
    "%matplotlib inline\n",
    "g = torch.Generator().manual_seed(2147483647) # for reproducibility\n",
    "\n",
    "torch.__version__"
   ]
  },
  {
   "cell_type": "code",
   "execution_count": 2,
   "id": "86c5ded7-d1bb-4d76-9f3f-050f4676b2c5",
   "metadata": {},
   "outputs": [
    {
     "name": "stdout",
     "output_type": "stream",
     "text": [
      "names:  ['syncere', 'kayan', 'nolyn', 'denarius', 'ayden']\n",
      "number of names:  32033\n",
      "(list of chars, count):  ('.abcdefghijklmnopqrstuvwxyz', 27)\n",
      "(max word length, min word length):  (15, 1)\n"
     ]
    }
   ],
   "source": [
    "import random\n",
    "with open(\"assets/names.txt\", \"r+\") as f:\n",
    "\twords = f.read().splitlines()\n",
    "\twords = [word.strip() for word in words] # get rid of any trailing spaces\n",
    "\twords = [w for w in words if w] # get rid of any empty strings\n",
    "\tnames = sorted(words, key=lambda x: random.random())\n",
    "\t\n",
    "min_chars = 1\n",
    "max_chars = max(len(v) for v in names)\n",
    "chars = sorted(list(set(\"\".join(names))))\n",
    "\n",
    "# in replacement of the start and end token. Every name should end with a period. and there should be no start token to begin a sequence\n",
    "chars = ['.'] + chars\n",
    "chars_count = len(chars)\n",
    "print(\"names: \", names[:5])\n",
    "print(\"number of names: \", len(names))\n",
    "print(\"(list of chars, count): \", (\"\".join(chars), chars_count))\n",
    "print(\"(max word length, min word length): \", (max_chars, min_chars))\n",
    "\n",
    "atoi = {ch:i for i,ch in enumerate(chars)}\n",
    "itoa = {i:ch for i,ch in enumerate(chars)}\n",
    "\n",
    "# adding end token to each name\n",
    "names = [list(name) + ['.'] for name in names]"
   ]
  },
  {
   "cell_type": "code",
   "execution_count": 3,
   "id": "ece9b2e4-7d31-4397-b570-f01f02c3e367",
   "metadata": {},
   "outputs": [
    {
     "data": {
      "text/plain": [
       "(torch.Size([228146, 3]), torch.Size([228146]))"
      ]
     },
     "execution_count": 3,
     "metadata": {},
     "output_type": "execute_result"
    }
   ],
   "source": [
    "block_size = 3 # context length: how many characters do we take to predict the next one?\n",
    "X, Y = [], []\n",
    "\n",
    "for name in names:\n",
    "    context  = [0] * block_size\n",
    "    for ch in name:\n",
    "        ix = atoi[ch]\n",
    "        X.append(context)\n",
    "        Y.append(ix)\n",
    "        # print(''.join(itoa[i] for i in context), '--->', itoa[ix])\n",
    "        context = context[1:] + [ix] # crop and append\n",
    "        \n",
    "X, Y = torch.tensor(X), torch.tensor(Y)\n",
    "X.shape, Y.shape"
   ]
  },
  {
   "cell_type": "code",
   "execution_count": 4,
   "id": "40df7547-351a-400c-81a8-7b5d5da68526",
   "metadata": {},
   "outputs": [
    {
     "name": "stdout",
     "output_type": "stream",
     "text": [
      "... => s\n",
      "..s => y\n",
      ".sy => n\n",
      "syn => c\n",
      "ync => e\n"
     ]
    },
    {
     "data": {
      "text/plain": [
       "((torch.Size([182457, 3]), torch.Size([182457])),\n",
       " (torch.Size([22877, 3]), torch.Size([22877])),\n",
       " (torch.Size([22812, 3]), torch.Size([22812])))"
      ]
     },
     "execution_count": 4,
     "metadata": {},
     "output_type": "execute_result"
    }
   ],
   "source": [
    "# build_dset basically builds a rolling window on the dataset based on the context length.\n",
    "def build_dset(dset, ctxt_len):\n",
    "    X, Y = [], []\n",
    "    for name in dset:\n",
    "        context  = [0] * ctxt_len\n",
    "        for ch in name:\n",
    "            ix = atoi[ch]\n",
    "            X.append(context)\n",
    "            Y.append(ix)\n",
    "            # print(''.join(itoa[i] for i in context), '--->', itoa[ix])\n",
    "            context = context[1:] + [ix] # crop and append\n",
    "    \n",
    "    X = torch.tensor(X)\n",
    "    Y = torch.tensor(Y)\n",
    "    return X, Y\n",
    "n1 = int(0.8*len(words))\n",
    "n2 = int(0.9*len(words))\n",
    "\n",
    "X_train, Y_train = build_dset(names[:n1], block_size)\n",
    "X_val, Y_val = build_dset(names[n1:n2], block_size)\n",
    "X_test, Y_test = build_dset(names[n2:], block_size)\n",
    "\n",
    "for c, d in zip(X_train[:5], Y_train[:5]):\n",
    "    print(''.join(itoa[i.item()] for i in c), \"=>\", itoa[d.item()])\n",
    "\n",
    "(X_train.shape, Y_train.shape), (X_val.shape, Y_val.shape), (X_test.shape, Y_test.shape)"
   ]
  },
  {
   "cell_type": "code",
   "execution_count": 5,
   "id": "36a4d92f-067a-4a56-a452-63c8171c6df8",
   "metadata": {},
   "outputs": [
    {
     "name": "stdout",
     "output_type": "stream",
     "text": [
      "The shape of Z(emb):  torch.Size([182457, 3, 2])\n"
     ]
    }
   ],
   "source": [
    "# squeezing it into a 2 dimensional space \n",
    "# since in the paper, a relatively smaller tensor(30 and 60) (to the dataset[17_000]) is used. \n",
    "C = torch.randn((27, 2), generator=g)\n",
    "\n",
    "x_enc = F.one_hot(X_train, num_classes=27).float()\n",
    "Z = x_enc @ C\n",
    "\n",
    "# this is another way of doing x \\times W \n",
    "emb = C[X_train]\n",
    "\n",
    "assert torch.equal(Z, emb)\n",
    "print(\"The shape of Z(emb): \", Z.shape)"
   ]
  },
  {
   "cell_type": "code",
   "execution_count": 6,
   "id": "72b8b03a-4fac-4fe3-914c-91efd25d8eae",
   "metadata": {},
   "outputs": [
    {
     "name": "stdout",
     "output_type": "stream",
     "text": [
      "Shape of hidden layer:  torch.Size([182457, 100])\n",
      "Shape of logits:  torch.Size([182457, 27])\n",
      "Shape of probability space:  torch.Size([182457, 27])\n",
      "Total number of parameters:  3481\n"
     ]
    }
   ],
   "source": [
    "# changing shape of Z(emb) so as to cross weight \n",
    "A = torch.cat(torch.unbind(Z, 1), dim=1)\n",
    "A.shape\n",
    "\n",
    "# This is a more efficient implementation of the above\n",
    "Z_shaped = Z.view(-1, 6)\n",
    "\n",
    "assert torch.equal(A, Z_shaped)\n",
    "\n",
    "# here let's use a 100 dimensional space\n",
    "W1 = torch.randn((6, 100), generator=g)\n",
    "b1 = torch.randn(100, generator=g)\n",
    " \n",
    "h = torch.tanh(Z_shaped @ W1 + b1) #hidden layer\n",
    "\n",
    "print(\"Shape of hidden layer: \", h.shape)\n",
    "\n",
    "W2 = torch.randn((100, 27), generator=g)\n",
    "b2 = torch.randn(27, generator=g)\n",
    "\n",
    "logits = h @ W2 + b2 # log-counts\n",
    "print(\"Shape of logits: \", logits.shape)\n",
    "\n",
    "# normalization\n",
    "counts = logits.exp()\n",
    "probs = counts / counts.sum(1, keepdims=True)\n",
    "\n",
    "print(\"Shape of probability space: \", probs.shape)\n",
    "\n",
    "params = [C, W1, b1, W2, b2]\n",
    "\n",
    "print(\"Total number of parameters: \", sum(p.nelement() for p in params))"
   ]
  },
  {
   "cell_type": "code",
   "execution_count": 7,
   "id": "4b9aef35-5913-44bf-94a4-8044d21029f1",
   "metadata": {},
   "outputs": [
    {
     "name": "stdout",
     "output_type": "stream",
     "text": [
      "loss=19.512798309326172 loss2=19.512798309326172\n"
     ]
    }
   ],
   "source": [
    "# negative mean log likelihood (cross entropy loss)\n",
    "# print(probs.shape[0], Y_train.shape[0])\n",
    "loss = -probs[torch.arange(probs.shape[0]), Y_train].log().mean()\n",
    "\n",
    "# this is a better way to implement the above\n",
    "loss2 = F.cross_entropy(logits, Y_train)\n",
    "\n",
    "assert torch.isclose(loss, loss2)\n",
    "\n",
    "print(f\"loss={loss} loss2={loss2}\")"
   ]
  },
  {
   "cell_type": "code",
   "execution_count": 8,
   "id": "a7c07e7e-f847-4a4e-af0f-b26e3bfd2c32",
   "metadata": {},
   "outputs": [
    {
     "name": "stdout",
     "output_type": "stream",
     "text": [
      "torch.float32\n"
     ]
    }
   ],
   "source": [
    "# REDOING IT AGAIN MORE CLEARELY\n",
    "# hyper-params\n",
    "embedding_size = 10\n",
    "block_size  = 3 # context length\n",
    "mid_w_size = 200 # intermediate weight size\n",
    "lr = 0.1 # determined based on graph\n",
    "batch_size = 50\n",
    "\n",
    "lre = torch.linspace(-3, 0, 1000)\n",
    "lrs = 10**lre # a range of learning rate\n",
    "print(lrs.dtype)"
   ]
  },
  {
   "cell_type": "code",
   "execution_count": 9,
   "id": "dfaaecda-e11f-4d00-82fe-2673964b94a1",
   "metadata": {},
   "outputs": [],
   "source": [
    "# BACKPROPAGATION\n",
    "\n",
    "#forward pass\n",
    "\n",
    "# train-test split(80, 10, 10)\n",
    "n1 = int(0.8*len(words))\n",
    "n2 = int(0.9*len(words))\n",
    "\n",
    "X_train, Y_train = build_dset(names[:n1], block_size)\n",
    "X_val, Y_val = build_dset(names[n1:n2], block_size)\n",
    "X_test, Y_test = build_dset(names[n2:], block_size)\n",
    "\n",
    "C = torch.randn((27, embedding_size), generator=g)\n",
    "W1 = torch.randn((block_size * embedding_size, mid_w_size), generator=g)\n",
    "b1 = torch.randn(mid_w_size, generator=g)\n",
    "W2 = torch.randn((mid_w_size, 27), generator=g)\n",
    "b2 = torch.randn(27, generator=g)\n",
    "\n",
    "params = [C, W1, b1, W2, b2]\n",
    "\n",
    "for p in params:\n",
    "    p.requires_grad = True # autograd should record operations\n"
   ]
  },
  {
   "cell_type": "code",
   "execution_count": 10,
   "id": "6b4c5bfa-446d-4ada-af67-db9636a93563",
   "metadata": {},
   "outputs": [
    {
     "name": "stdout",
     "output_type": "stream",
     "text": [
      "( 0 / 1000 ) loss =  27.000410079956055\n",
      "( 100 / 1000 ) loss =  24.161022186279297\n",
      "( 200 / 1000 ) loss =  20.21068000793457\n",
      "( 300 / 1000 ) loss =  15.939722061157227\n",
      "( 400 / 1000 ) loss =  14.527308464050293\n",
      "( 500 / 1000 ) loss =  11.992600440979004\n",
      "( 600 / 1000 ) loss =  7.692319869995117\n",
      "( 700 / 1000 ) loss =  7.461807727813721\n",
      "( 800 / 1000 ) loss =  7.806158542633057\n",
      "( 900 / 1000 ) loss =  8.536825180053711\n"
     ]
    }
   ],
   "source": [
    "# BACKPROPAGATION\n",
    "\n",
    "# backward pass\n",
    "epoch = 1000\n",
    "step_i = []\n",
    "lr_i = []\n",
    "loss_i = []\n",
    "\n",
    "for i in range(epoch):\n",
    "    # unable to run on codespace due to memory error\n",
    "    # minibatch construct - to avoid memory error\n",
    "    ix = torch.randint(0, X_train.shape[0], (batch_size,))\n",
    "\n",
    "    # forward pass\n",
    "    emb = C[X_train[ix]].view(-1, 30)\n",
    "    h = torch.tanh(emb @ W1 + b1) # intermediate layer\n",
    "    logits = h @ W2 + b2\n",
    "        \n",
    "    loss = F.cross_entropy(logits, Y_train[ix])\n",
    "    if i % 100 == 0:\n",
    "        print(\"(\", i ,\"/\", epoch, \") loss = \", loss.item())\n",
    "    \n",
    "    # backward pass\n",
    "    for p in params:\n",
    "        p.grad = None\n",
    "    loss.backward()\n",
    "\n",
    "    # update\n",
    "    for p in params:\n",
    "        p.data += - lrs[i] * p.grad \n",
    "\n",
    "    # track stats\n",
    "    lr_i.append(lrs[i])\n",
    "    step_i.append(i)\n",
    "    loss_i.append(loss)"
   ]
  },
  {
   "cell_type": "code",
   "execution_count": 11,
   "id": "6ad1e784-b426-4518-ad31-e31536d948b7",
   "metadata": {},
   "outputs": [
    {
     "data": {
      "image/png": "[encoded data removed]",
      "text/plain": [
       "<Figure size 640x480 with 1 Axes>"
      ]
     },
     "metadata": {},
     "output_type": "display_data"
    }
   ],
   "source": [
    "# after determine the optimum learning rate\n",
    "\n",
    "with torch.no_grad():\n",
    "    y = torch.tensor(loss_i)\n",
    "    x = torch.log10(torch.tensor(lr_i))\n",
    "    plt.plot(x.numpy(), y.numpy())\n",
    "    plt.xlabel('Log Learning rate')\n",
    "    plt.ylabel('Loss')\n",
    "    plt.title('Learing rate Loss graph')\n",
    "    plt.show()"
   ]
  },
  {
   "cell_type": "code",
   "execution_count": 12,
   "id": "280a5948-0274-4f2b-9d18-6837bdd5c4ea",
   "metadata": {},
   "outputs": [
    {
     "name": "stdout",
     "output_type": "stream",
     "text": [
      "(  0.0 % ) loss =  12.904102325439453\n",
      "(  10.0 % ) loss =  2.119588851928711\n",
      "(  20.0 % ) loss =  2.0680811405181885\n",
      "(  30.0 % ) loss =  2.4755070209503174\n",
      "(  40.0 % ) loss =  2.1865715980529785\n",
      "(  50.0 % ) loss =  2.115908622741699\n",
      "(  60.0 % ) loss =  2.062354803085327\n",
      "(  70.0 % ) loss =  2.286194324493408\n",
      "(  80.0 % ) loss =  1.9067840576171875\n",
      "(  90.0 % ) loss =  1.8752484321594238\n"
     ]
    }
   ],
   "source": [
    "# BACKPROPAGATION\n",
    "\n",
    "# backward pass\n",
    "epoch = 100000\n",
    "\n",
    "\n",
    "loss_i = []\n",
    "for i in range(epoch):\n",
    "    # minibatch construct - for efficiency\n",
    "    ix = torch.randint(0, X_train.shape[0], (batch_size,))\n",
    "\n",
    "    # forward pass\n",
    "    emb = C[X_train[ix]].view(-1, 30)\n",
    "    h = torch.tanh(emb @ W1 + b1) # intermediate layer\n",
    "    logits = h @ W2 + b2\n",
    "        \n",
    "    loss = F.cross_entropy(logits, Y_train[ix])\n",
    "    if i % 10000 == 0:\n",
    "        print(\"( \", (i/epoch)*100, \"% ) loss = \", loss.item())\n",
    "    \n",
    "    # backward pass\n",
    "    for p in params:\n",
    "        p.grad = None\n",
    "    loss.backward()\n",
    "\n",
    "    # update\n",
    "    lri = 0.1 if i < epoch/2 else 0.01\n",
    "    # lr_i = 0.01\n",
    "    for p in params:\n",
    "        p.data += - lri * p.grad \n",
    "\n",
    "    # track stats\n",
    "    loss_i.append(loss.item())"
   ]
  },
  {
   "cell_type": "code",
   "execution_count": 13,
   "metadata": {},
   "outputs": [
    {
     "data": {
      "text/plain": [
       "[<matplotlib.lines.Line2D at 0x7f99ca95c820>]"
      ]
     },
     "execution_count": 13,
     "metadata": {},
     "output_type": "execute_result"
    },
    {
     "data": {
      "image/png": "[encoded data removed]",
      "text/plain": [
       "<Figure size 640x480 with 1 Axes>"
      ]
     },
     "metadata": {},
     "output_type": "display_data"
    }
   ],
   "source": [
    "plt.plot(loss_i)"
   ]
  },
  {
   "cell_type": "code",
   "execution_count": 14,
   "id": "e532cff4-d792-4daf-bc54-c885d3922f04",
   "metadata": {},
   "outputs": [
    {
     "name": "stdout",
     "output_type": "stream",
     "text": [
      "Validation loss: 2.1862707138061523\n"
     ]
    }
   ],
   "source": [
    "with torch.no_grad():\n",
    "\tX, Y = X_val, Y_val # validation set\n",
    "\temb = C[X]\n",
    "\th = torch.tanh(emb.view(-1, block_size * embedding_size) @ W1 + b1) # intermediate layer\n",
    "\tlogits = h @ W2 + b2\n",
    "\tloss = F.cross_entropy(logits, Y)\n",
    "\tprint(f\"Validation loss: {loss.item()}\")"
   ]
  },
  {
   "cell_type": "code",
   "execution_count": 15,
   "id": "f983f955-31fd-4d56-803e-79c31523f92b",
   "metadata": {},
   "outputs": [
    {
     "name": "stdout",
     "output_type": "stream",
     "text": [
      "Test loss: 2.190969944000244\n"
     ]
    }
   ],
   "source": [
    "with torch.no_grad():\n",
    "\tX, Y = X_test, Y_test # test set\n",
    "\temb = C[X]\n",
    "\th = torch.tanh(emb.view(-1, block_size * embedding_size) @ W1 + b1) # intermediate layer\n",
    "\tlogits = h @ W2 + b2\n",
    "\tloss = F.cross_entropy(logits, Y)\n",
    "\tprint(f\"Test loss: {loss.item()}\")"
   ]
  },
  {
   "cell_type": "code",
   "execution_count": 16,
   "id": "fb23627d-4d25-4ba3-a1a8-f882b832c729",
   "metadata": {},
   "outputs": [],
   "source": [
    "# not sure if this is the right way to do it\n",
    "@torch.no_grad()\n",
    "def nnl(name):\n",
    "    \"to calculate the likelihood of a word in a mlp model\"\n",
    "    x, y = build_dset([name], block_size)\n",
    "    emb = C[x]\n",
    "    h = torch.tanh(emb.view(-1, 30) @ W1 + b1)\n",
    "    logits = h @ W2 + b2\n",
    "    loss = F.cross_entropy(logits, y)\n",
    "    return loss"
   ]
  },
  {
   "cell_type": "code",
   "execution_count": 17,
   "id": "f8c8eabe-eeeb-4ad1-b173-f14a5decaed7",
   "metadata": {},
   "outputs": [
    {
     "name": "stdout",
     "output_type": "stream",
     "text": [
      "+ valid word:  temirea. \t\t\tnnl:  2.2162773609161377\n",
      "+ valid word:  prya. \t\t\tnnl:  2.4740452766418457\n",
      "+ valid word:  ter. \t\t\tnnl:  2.094487428665161\n",
      "+ valid word:  kynzeega. \t\t\tnnl:  2.1274003982543945\n",
      "+ valid word:  dogani. \t\t\tnnl:  2.0825812816619873\n",
      "+ valid word:  may. \t\t\tnnl:  2.031602621078491\n",
      "+ valid word:  ran. \t\t\tnnl:  2.1067380905151367\n",
      "+ valid word:  tognanivyalnonverrell. \t\t\tnnl:  2.63796329498291\n",
      "+ valid word:  nolhrystin. \t\t\tnnl:  2.1462669372558594\n",
      "+ valid word:  nehlynne. \t\t\tnnl:  1.8435338735580444\n",
      "+ valid word:  mam. \t\t\tnnl:  2.472588539123535\n",
      "+ valid word:  atjen. \t\t\tnnl:  2.5771496295928955\n",
      "+ valid word:  odstin. \t\t\tnnl:  2.276459217071533\n",
      "+ valid word:  emsen. \t\t\tnnl:  1.9349254369735718\n",
      "+ valid word:  keiko. \t\t\tnnl:  2.245020627975464\n"
     ]
    }
   ],
   "source": [
    "# sampling\n",
    "with torch.no_grad():\n",
    "    for i in range(15):\n",
    "        out = []\n",
    "        probs = None\n",
    "        context  = [0] * block_size\n",
    "        while True:\n",
    "            emb = C[torch.tensor(context)].view(-1, block_size * embedding_size)\n",
    "            h = torch.tanh(emb @ W1 + b1)\n",
    "            logits = h @ W2 + b2\n",
    "            probs = F.softmax(logits, dim=1)\n",
    "            # print(probs)\n",
    "            ix = torch.multinomial(probs, num_samples=1, generator=g)\n",
    "            context = context[1:] + [ix]\n",
    "            out.append(ix)\n",
    "            \n",
    "            if ix == 0:\n",
    "                break\n",
    "\n",
    "        word = ''.join(itoa[i.item()] for i in out)\n",
    "        print(\"+ valid word: \", word, \"\\t\\t\\tnnl: \", nnl(word).item())\n"
   ]
  },
  {
   "cell_type": "code",
   "execution_count": 20,
   "id": "6b5d5e45",
   "metadata": {},
   "outputs": [
    {
     "name": "stdout",
     "output_type": "stream",
     "text": [
      "generating...\n",
      "+ valid word:  muhaniyah.\n",
      "+ valid word:  jerria.\n",
      "+ valid word:  jene.\n",
      "+ valid word:  leigh.\n",
      "+ valid word:  joden.\n",
      "+ valid word:  brie.\n",
      "+ valid word:  pracarlynn.\n",
      "+ valid word:  mari.\n",
      "+ valid word:  braxson.\n",
      "+ valid word:  taisyn.\n",
      "duration:  0.10049080848693848\n"
     ]
    }
   ],
   "source": [
    "import time\n",
    "\n",
    "with torch.no_grad():\n",
    "    generated_names = []\n",
    "    print(\"generating...\")\n",
    "    start_time = time.time()\n",
    "    while True:\n",
    "        out = []\n",
    "        probs = None\n",
    "        context  = [0] * block_size\n",
    "        while True:\n",
    "            emb = C[torch.tensor(context)].view(-1, block_size * embedding_size)\n",
    "            h = torch.tanh(emb @ W1 + b1)\n",
    "            logits = h @ W2 + b2\n",
    "            probs = F.softmax(logits, dim=1)\n",
    "            # print(probs)\n",
    "            ix = torch.multinomial(probs, num_samples=1, generator=g)\n",
    "            context = context[1:] + [ix]\n",
    "            out.append(ix)\n",
    "            \n",
    "            if ix == 0:\n",
    "                break\n",
    "\n",
    "        word = ''.join(itoa[i.item()] for i in out)\n",
    "        if nnl(word) < 1.7 and len(word) > 3 and word not in generated_names:\n",
    "            print(\"+ valid word: \", word)\n",
    "            generated_names.append(word) \n",
    "        if len(generated_names) == 10:\n",
    "            break\n",
    "    duration = time.time() - start_time\n",
    "    print(\"duration: \", duration)"
   ]
  },
  {
   "cell_type": "code",
   "execution_count": 38,
   "id": "b4dfcc49-8414-424f-9247-488e26509c74",
   "metadata": {},
   "outputs": [
    {
     "data": {
      "image/png": "[encoded data removed]",
      "text/plain": [
       "<Figure size 800x800 with 1 Axes>"
      ]
     },
     "metadata": {},
     "output_type": "display_data"
    }
   ],
   "source": [
    "\n",
    "# visualize dimensions 0 and 1 of the embedding matrix C for all characters\n",
    "with torch.no_grad():\n",
    "    plt.figure(figsize=(8,8))\n",
    "    plt.scatter(C[:,0].data, C[:,1].data, s=200)\n",
    "    for i in range(C.shape[0]):\n",
    "        plt.text(C[i,0].item(), C[i,1].item(), itoa[i], ha=\"center\", va=\"center\", color='white')\n",
    "    plt.title(\"Visualization of the character clusters\")\n",
    "    plt.grid('minor')"
   ]
  }
 ],
 "metadata": {
  "kernelspec": {
   "display_name": "Python 3",
   "language": "python",
   "name": "python3"
  },
  "language_info": {
   "codemirror_mode": {
    "name": "ipython",
    "version": 3
   },
   "file_extension": ".py",
   "mimetype": "text/x-python",
   "name": "python",
   "nbconvert_exporter": "python",
   "pygments_lexer": "ipython3",
   "version": "3.10.13"
  },
  "vscode": {
   "interpreter": {
    "hash": "3ad933181bd8a04b432d3370b9dc3b0662ad032c4dfaa4e4f1596c548f763858"
   }
  },
  "widgets": {
   "application/vnd.jupyter.widget-state+json": {
    "state": {},
    "version_major": 2,
    "version_minor": 0
   }
  }
 },
 "nbformat": 4,
 "nbformat_minor": 5
}
